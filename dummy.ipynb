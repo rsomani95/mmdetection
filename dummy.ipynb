{
 "metadata": {
  "language_info": {
   "codemirror_mode": {
    "name": "ipython",
    "version": 3
   },
   "file_extension": ".py",
   "mimetype": "text/x-python",
   "name": "python",
   "nbconvert_exporter": "python",
   "pygments_lexer": "ipython3",
   "version": "3.7.9"
  },
  "orig_nbformat": 2,
  "kernelspec": {
   "name": "python379jvsc74a57bd0bdf6657493cb1ea4c188ded1445badb4a129fa7115e64183f8006bd1e14660cc",
   "display_name": "Python 3.7.9 64-bit ('det': conda)"
  }
 },
 "nbformat": 4,
 "nbformat_minor": 2,
 "cells": [
  {
   "cell_type": "code",
   "execution_count": null,
   "metadata": {},
   "outputs": [],
   "source": [
    "%load_ext autoreload\n",
    "%autoreload 2"
   ]
  },
  {
   "cell_type": "code",
   "execution_count": null,
   "metadata": {},
   "outputs": [],
   "source": [
    "from mmcv.utils import Config\n",
    "from mmdet.models.builder import *\n",
    "from mmdet.models.backbones.timm_resnet import *\n",
    "from pprint import pprint\n",
    "\n",
    "import torch"
   ]
  },
  {
   "cell_type": "code",
   "execution_count": null,
   "metadata": {},
   "outputs": [],
   "source": [
    "path = \"mmdet/models/backbones/timm_resnet.py\"\n",
    "cfg = Config.fromfile(path)\n",
    "pprint(cfg.model.backbone)"
   ]
  },
  {
   "cell_type": "code",
   "execution_count": null,
   "metadata": {},
   "outputs": [],
   "source": [
    "build_backbone(c)"
   ]
  },
  {
   "cell_type": "code",
   "execution_count": null,
   "metadata": {},
   "outputs": [],
   "source": []
  },
  {
   "cell_type": "code",
   "execution_count": null,
   "metadata": {},
   "outputs": [],
   "source": []
  },
  {
   "cell_type": "code",
   "execution_count": null,
   "metadata": {},
   "outputs": [],
   "source": []
  },
  {
   "cell_type": "code",
   "execution_count": null,
   "metadata": {},
   "outputs": [],
   "source": []
  },
  {
   "cell_type": "code",
   "execution_count": null,
   "metadata": {},
   "outputs": [],
   "source": []
  },
  {
   "cell_type": "code",
   "execution_count": null,
   "metadata": {},
   "outputs": [],
   "source": [
    "m = timm.create_model(\"resnet50\", features_only=True)\n",
    "outs = m(x)\n",
    "[o.shape for o in outs]"
   ]
  },
  {
   "cell_type": "code",
   "execution_count": null,
   "metadata": {},
   "outputs": [],
   "source": []
  },
  {
   "cell_type": "code",
   "execution_count": null,
   "metadata": {},
   "outputs": [],
   "source": []
  },
  {
   "source": [
    "### Model Definition"
   ],
   "cell_type": "markdown",
   "metadata": {}
  },
  {
   "cell_type": "code",
   "execution_count": null,
   "metadata": {},
   "outputs": [],
   "source": [
    "m = TIMMResNet50()"
   ]
  },
  {
   "cell_type": "code",
   "execution_count": null,
   "metadata": {},
   "outputs": [],
   "source": [
    "x.shape"
   ]
  },
  {
   "cell_type": "code",
   "execution_count": null,
   "metadata": {},
   "outputs": [],
   "source": [
    "m(x)"
   ]
  },
  {
   "cell_type": "code",
   "execution_count": null,
   "metadata": {},
   "outputs": [],
   "source": []
  },
  {
   "cell_type": "code",
   "execution_count": null,
   "metadata": {},
   "outputs": [],
   "source": []
  },
  {
   "cell_type": "code",
   "execution_count": null,
   "metadata": {},
   "outputs": [],
   "source": [
    "TIMMResNet50\n"
   ]
  },
  {
   "cell_type": "code",
   "execution_count": null,
   "metadata": {},
   "outputs": [],
   "source": [
    "m = TIMMResNet50()\n",
    "# outs = m(x)"
   ]
  },
  {
   "cell_type": "code",
   "execution_count": null,
   "metadata": {},
   "outputs": [],
   "source": []
  },
  {
   "cell_type": "code",
   "execution_count": null,
   "metadata": {},
   "outputs": [],
   "source": []
  },
  {
   "cell_type": "code",
   "execution_count": null,
   "metadata": {},
   "outputs": [],
   "source": [
    "import torch.nn as nn\n",
    "import torch\n",
    "import timm\n",
    "from typing import Optional, Collection\n",
    "from torch.nn.modules.batchnorm import _BatchNorm\n",
    "\n",
    "x = torch.rand(1, 3, 224, 224)\n",
    "\n",
    "class TIMMResNet50(nn.Module):\n",
    "    \"\"\"\n",
    "    Wrapper for timm's \"mobilenetv3_large_100_aa\". Current (as of 14 May 2021),\n",
    "    this is under a PR and thus you need to install `timm` from this fork:\n",
    "      https://github.com/rsomani95/pytorch-image-models/tree/aa-effnets\n",
    "    \"\"\"\n",
    "\n",
    "    def __init__(\n",
    "        self,\n",
    "        # model_name: str = model_name, \n",
    "        pretrained: bool = True,\n",
    "        checkpoint_path=\"\",\n",
    "        scriptable: bool = None,\n",
    "        exportable: bool = None,\n",
    "        no_jit: bool = None,\n",
    "        out_indices: Optional[Collection[int]] = (1, 2, 3, 4),\n",
    "        # norm_eval: bool = True,\n",
    "        # frozen_stages: int = 1,\n",
    "        **timm_kwargs,\n",
    "    ):\n",
    "        print(\"INITIALISING !!!!\")\n",
    "        print(\"*\" * 80)\n",
    "        super().__init__()\n",
    "        timm_kwargs.update(dict(features_only=True))\n",
    "        if out_indices is not None:\n",
    "            timm_kwargs.update(dict(out_indices=out_indices))\n",
    "\n",
    "        self.pretrained = pretrained\n",
    "        # self.norm_eval = norm_eval\n",
    "        # self.frozen_stages = frozen_stages\n",
    "        self.model = timm.create_model(\n",
    "            model_name=\"mobilenetv3_large_100_aa\",\n",
    "            pretrained=pretrained,\n",
    "            checkpoint_path=checkpoint_path,\n",
    "            scriptable=scriptable,\n",
    "            exportable=exportable,\n",
    "            no_jit=no_jit,\n",
    "            **timm_kwargs,\n",
    "        )\n",
    "\n",
    "        # def init_weights(self, pretrained=None):\n",
    "        #     pass\n",
    "\n",
    "        # def _freeze_stages(self):\n",
    "        #     pass\n",
    "\n",
    "        # def train(self):\n",
    "        #     pass\n",
    "\n",
    "        def forward(self, x):\n",
    "            print(\"FORWARDING\")\n",
    "            return tuple(self.model(x))\n"
   ]
  },
  {
   "cell_type": "code",
   "execution_count": null,
   "metadata": {},
   "outputs": [],
   "source": []
  }
 ]
}